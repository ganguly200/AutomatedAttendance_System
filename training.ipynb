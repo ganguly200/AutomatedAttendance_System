{
  "nbformat": 4,
  "nbformat_minor": 0,
  "metadata": {
    "colab": {
      "name": "training.ipynb",
      "provenance": [],
      "collapsed_sections": []
    },
    "kernelspec": {
      "name": "python3",
      "display_name": "Python 3"
    },
    "accelerator": "GPU"
  },
  "cells": [
    {
      "cell_type": "code",
      "metadata": {
        "colab_type": "code",
        "id": "ff4jF-7neBii",
        "colab": {}
      },
      "source": [
        "!unzip resizedtrain.zip"
      ],
      "execution_count": 0,
      "outputs": []
    },
    {
      "cell_type": "code",
      "metadata": {
        "id": "jvQn-ZOFkTqq",
        "colab_type": "code",
        "colab": {}
      },
      "source": [
        "!unzip resizedval.zip"
      ],
      "execution_count": 0,
      "outputs": []
    },
    {
      "cell_type": "code",
      "metadata": {
        "id": "OxGWCEBPG6A9",
        "colab_type": "code",
        "colab": {}
      },
      "source": [
        "#Importing Required Libraries\n",
        "\n",
        "from tensorflow.keras.layers import Input, Dense, Dropout, Conv2D, MaxPool2D, BatchNormalization, Flatten\n",
        "from tensorflow.keras.callbacks import ReduceLROnPlateau, EarlyStopping, ModelCheckpoint\n",
        "from tensorflow.keras.preprocessing.image import ImageDataGenerator\n",
        "from tensorflow.keras.applications import VGG19, ResNet50\n",
        "from tensorflow.keras.utils import to_categorical\n",
        "from sklearn.metrics import confusion_matrix\n",
        "from google.colab.patches import cv2_imshow\n",
        "from tensorflow.keras.models import Model\n",
        "\n",
        "import tensorflow.keras.backend as K\n",
        "import matplotlib.pyplot as plt\n",
        "import tensorflow as tf\n",
        "import numpy as np\n",
        "import os, re, cv2\n",
        "import itertools"
      ],
      "execution_count": 0,
      "outputs": []
    },
    {
      "cell_type": "code",
      "metadata": {
        "id": "XHpHH4ANHfSi",
        "colab_type": "code",
        "colab": {}
      },
      "source": [
        "#Defining the model objects for ResNet50 and VGG19\n",
        "\n",
        "K.clear_session()\n",
        "base_model = ResNet50(include_top=False, weights='imagenet', input_shape=(32,32,3))\n",
        "base_model_vgg = VGG19(include_top=False, weights='imagenet', input_shape=(32,32,3))"
      ],
      "execution_count": 0,
      "outputs": []
    },
    {
      "cell_type": "code",
      "metadata": {
        "id": "dlOBqxk6KRIm",
        "colab_type": "code",
        "colab": {}
      },
      "source": [
        "#Making the VGG19 Dense layers non-trainable\n",
        "\n",
        "for layer in base_model_vgg.layers:\n",
        "    layer.trainable= False"
      ],
      "execution_count": 0,
      "outputs": []
    },
    {
      "cell_type": "code",
      "metadata": {
        "id": "8kx1SNsWKUr5",
        "colab_type": "code",
        "colab": {}
      },
      "source": [
        "base_model_vgg.summary()"
      ],
      "execution_count": 0,
      "outputs": []
    },
    {
      "cell_type": "code",
      "metadata": {
        "id": "octnZiPGKXP7",
        "colab_type": "code",
        "colab": {}
      },
      "source": [
        "#Adding some customized layers for the model\n",
        "\n",
        "y1 = base_model_vgg.output\n",
        "y1 = Flatten()(y1)\n",
        "y1 = BatchNormalization()(y1)\n",
        "y1 = Dense(128,activation='relu')(y1)\n",
        "y1 = Dropout(0.3)(y1)\n",
        "y1 = BatchNormalization()(y1)\n",
        "y1 = Dense(64, activation='relu')(y1)\n",
        "y1 = Dropout(0.4)(y1)\n",
        "y1 = Dense(26, activation='softmax')(y1)\n",
        "model2 = Model(base_model_vgg.input, y1)\n",
        "model2.summary()"
      ],
      "execution_count": 0,
      "outputs": []
    },
    {
      "cell_type": "code",
      "metadata": {
        "id": "fEW0u8lNMfkS",
        "colab_type": "code",
        "colab": {}
      },
      "source": [
        "#Image data generator for training\n",
        "\n",
        "image_data_generator = ImageDataGenerator(rescale = 1./255, rotation_range = 20, \n",
        "                                          vertical_flip=True, horizontal_flip=True)"
      ],
      "execution_count": 0,
      "outputs": []
    },
    {
      "cell_type": "code",
      "metadata": {
        "id": "Nl1PyxuO2nlV",
        "colab_type": "code",
        "colab": {}
      },
      "source": [
        "#Image data generator for validating\n",
        "\n",
        "image_data_generator1 = ImageDataGenerator(rescale = 1./255)"
      ],
      "execution_count": 0,
      "outputs": []
    },
    {
      "cell_type": "code",
      "metadata": {
        "id": "OHnxXCswMqvW",
        "colab_type": "code",
        "colab": {}
      },
      "source": [
        "train_generator = image_data_generator.flow_from_directory('/content/resizedtrain/faces', \n",
        "                                                           class_mode = 'categorical',batch_size = 32,\n",
        "                                                           target_size = (32,32))"
      ],
      "execution_count": 0,
      "outputs": []
    },
    {
      "cell_type": "code",
      "metadata": {
        "id": "C8nO6oK3h9mg",
        "colab_type": "code",
        "colab": {}
      },
      "source": [
        "validation_generator = image_data_generator1.flow_from_directory(\"/content/resizedval\", \n",
        "                                                                 class_mode='categorical', \n",
        "                                                                 batch_size = 32, \n",
        "                                                                 target_size = (32,32))"
      ],
      "execution_count": 0,
      "outputs": []
    },
    {
      "cell_type": "code",
      "metadata": {
        "id": "gpcPlsbkOKTX",
        "colab_type": "code",
        "colab": {}
      },
      "source": [
        "es = EarlyStopping(monitor='val_loss', patience=10)\n",
        "rlr= ReduceLROnPlateau(factor=0.5) #change values\n",
        "chk_pts = ModelCheckpoint(monitor='val_loss', save_best_only=True, filepath='best_model.h5')"
      ],
      "execution_count": 0,
      "outputs": []
    },
    {
      "cell_type": "code",
      "metadata": {
        "id": "el-6iVEOMvpW",
        "colab_type": "code",
        "colab": {}
      },
      "source": [
        "model2.compile(optimizer='adam', loss='categorical_crossentropy', metrics=['acc'])\n",
        "history=model2.fit_generator(generator=train_generator,validation_data=validation_generator,\n",
        "                             validation_steps=32, steps_per_epoch=64, epochs=30, \n",
        "                             callbacks=[rlr,chk_pts]) #more no of epochs"
      ],
      "execution_count": 0,
      "outputs": []
    },
    {
      "cell_type": "code",
      "metadata": {
        "id": "oy5VkOG29xkU",
        "colab_type": "code",
        "colab": {}
      },
      "source": [
        "model_json = model2.to_json()\n",
        "with open(\"model.json\", \"w\") as json_file:\n",
        "    json_file.write(model_json)\n",
        "\n",
        "model2.save_weights(\"model.h5\")\n",
        "print(\"Saved model to disk\")"
      ],
      "execution_count": 0,
      "outputs": []
    },
    {
      "cell_type": "code",
      "metadata": {
        "id": "j5UcQspZpyGG",
        "colab_type": "code",
        "colab": {}
      },
      "source": [
        "model2.save('face.model')"
      ],
      "execution_count": 0,
      "outputs": []
    },
    {
      "cell_type": "code",
      "metadata": {
        "id": "X3EdPexM-CJC",
        "colab_type": "code",
        "colab": {}
      },
      "source": [
        "#Plotting the Train and Validation Losses\n",
        "\n",
        "import matplotlib.pyplot as plt\n",
        "\n",
        "plt.figure(figsize=(20,10))\n",
        "plt.subplot(1, 2, 1)\n",
        "plt.suptitle('Optimizer : Adam', fontsize=10)\n",
        "plt.ylabel('Loss', fontsize=16)\n",
        "plt.plot(history.history['loss'], label='Training Loss')\n",
        "plt.plot(history.history['val_loss'], label='Validation Loss')\n",
        "plt.legend(loc='upper right')\n",
        "\n",
        "plt.subplot(1, 2, 2)\n",
        "plt.ylabel('Accuracy', fontsize=16)\n",
        "plt.plot(history.history['acc'], label='Training Accuracy')\n",
        "plt.plot(history.history['val_acc'], label='Validation Accuracy')\n",
        "plt.legend(loc='lower right')\n",
        "plt.show()"
      ],
      "execution_count": 0,
      "outputs": []
    },
    {
      "cell_type": "code",
      "metadata": {
        "id": "dP87K-Aq-SMI",
        "colab_type": "code",
        "colab": {}
      },
      "source": [
        "predictions = model2.predict_generator(generator=validation_generator)\n",
        "y_pred = [np.argmax(probas) for probas in predictions]\n",
        "y_test = validation_generator.classes\n",
        "class_names = validation_generator.class_indices.keys()"
      ],
      "execution_count": 0,
      "outputs": []
    },
    {
      "cell_type": "code",
      "metadata": {
        "id": "mcNajHhT-g-A",
        "colab_type": "code",
        "colab": {}
      },
      "source": [
        "#Plotting the confusion matrix\n",
        "\n",
        "def plot_confusion_matrix(cm, classes, title='Confusion matrix', cmap=plt.cm.Blues):\n",
        "    cm = cm.astype('float') / cm.sum(axis=1)[:, np.newaxis]\n",
        "    plt.figure(figsize=(15,15))\n",
        "    plt.imshow(cm, interpolation='nearest', cmap=cmap)\n",
        "    plt.title(title)\n",
        "    plt.colorbar()\n",
        "    tick_marks = np.arange(len(classes))\n",
        "    plt.xticks(tick_marks, classes, rotation=45)\n",
        "    plt.yticks(tick_marks, classes)\n",
        "\n",
        "    fmt = '.2f'\n",
        "    thresh = cm.max() / 2.\n",
        "    for i, j in itertools.product(range(cm.shape[0]), range(cm.shape[1])):\n",
        "        plt.text(j, i, format(cm[i, j], fmt),\n",
        "                 horizontalalignment=\"center\",\n",
        "                 color=\"white\" if cm[i, j] > thresh else \"black\")\n",
        "\n",
        "    plt.ylabel('True label')\n",
        "    plt.xlabel('Predicted label')\n",
        "    plt.tight_layout()\n",
        "    \n",
        "# compute confusion matrix\n",
        "cnf_matrix = confusion_matrix(y_test, y_pred)\n",
        "np.set_printoptions(precision=2)\n",
        "\n",
        "# plot normalized confusion matrix\n",
        "plt.figure()\n",
        "plot_confusion_matrix(cnf_matrix, classes=class_names, title='Normalized confusion matrix')\n",
        "plt.show()\n"
      ],
      "execution_count": 0,
      "outputs": []
    }
  ]
}
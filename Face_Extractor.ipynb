{
  "nbformat": 4,
  "nbformat_minor": 0,
  "metadata": {
    "colab": {
      "name": "Loop Face Extractor.ipynb",
      "provenance": [],
      "collapsed_sections": []
    },
    "kernelspec": {
      "name": "python3",
      "display_name": "Python 3"
    },
    "accelerator": "GPU"
  },
  "cells": [
    {
      "cell_type": "code",
      "metadata": {
        "id": "JAI7gBWhxic8",
        "colab_type": "code",
        "colab": {}
      },
      "source": [
        "pip install mxnet"
      ],
      "execution_count": 0,
      "outputs": []
    },
    {
      "cell_type": "code",
      "metadata": {
        "id": "UoRQ4GjjyVsL",
        "colab_type": "code",
        "colab": {}
      },
      "source": [
        "# coding: utf-8\n",
        "import mxnet as mx\n",
        "from mtcnn_detector import MtcnnDetector\n",
        "import cv2\n",
        "import os\n",
        "import glob\n",
        "import time\n",
        "from google.colab.patches import cv2_imshow"
      ],
      "execution_count": 0,
      "outputs": []
    },
    {
      "cell_type": "code",
      "metadata": {
        "id": "wYlkr1O2yWbJ",
        "colab_type": "code",
        "colab": {}
      },
      "source": [
        "detector = MtcnnDetector(model_folder='model', ctx=mx.cpu(0), num_worker = 4 , accurate_landmark = False)"
      ],
      "execution_count": 0,
      "outputs": []
    },
    {
      "cell_type": "code",
      "metadata": {
        "id": "R2eBkmq5ybZm",
        "colab_type": "code",
        "colab": {}
      },
      "source": [
        "iter = 0\n",
        "\n",
        "#Creating an array of images in a folder named 'trial1'\n",
        "images = [cv2.imread(file) for file in glob.glob(\"trial1/*.jpg\")]\n",
        "\n",
        "for img in images:\n",
        "\n",
        "  results = detector.detect_face(img)\n",
        "\n",
        "  if results is not None:\n",
        "\n",
        "    total_boxes = results[0]\n",
        "    points = results[1]\n",
        "\n",
        "    draw = img.copy()\n",
        "    #Drawing boxes around faces\n",
        "    for b in total_boxes:\n",
        "        cv2.rectangle(draw, (int(b[0]), int(b[1])), (int(b[2]), int(b[3])), (255, 255, 255))\n",
        "\n",
        "    #Detecting features of face (eyes, mouth, nose)    \n",
        "    for p in points:\n",
        "        for i in range(5):\n",
        "            cv2.circle(draw, (p[i], p[i + 5]), 1, (0, 0, 255), 2)\n",
        "\n",
        "    cv2_imshow(draw)\n",
        "    cv2.waitKey(0)\n",
        "\n",
        "    #Creating subpaths inside a master folder 'trial-1f'\n",
        "    facepath = 'trial-1f/faces' + str(iter)\n",
        "    if not os.path.exists(facepath):\n",
        "      print(\"New directory created\")\n",
        "      os.makedirs(facepath)\n",
        "     \n",
        "\n",
        "    #Converting the array of images to list\n",
        "    boxes = total_boxes.tolist()\n",
        "\n",
        "\n",
        "    d=0\n",
        "    #Iterating over all detected images and cropping out\n",
        "    for box in boxes:\n",
        "    # print(int(coord), end=\" \", flush=True)\n",
        "      crop = img[int(box[1]):int(box[3]), int(box[0]):int(box[2])]\n",
        "      cv2.imwrite(facepath + '/' + str(d) + '.jpg', crop)\n",
        "      d += 1\n",
        "\n",
        "\n",
        "    iter += 1"
      ],
      "execution_count": 0,
      "outputs": []
    },
    {
      "cell_type": "code",
      "metadata": {
        "id": "GABal9Wk3pvP",
        "colab_type": "code",
        "colab": {}
      },
      "source": [
        "#Zipping the folders\n",
        "!zip -r /content/trial-1f.zip /content/trial-1f"
      ],
      "execution_count": 0,
      "outputs": []
    },
    {
      "cell_type": "code",
      "metadata": {
        "id": "9z4WtjMo3vhQ",
        "colab_type": "code",
        "colab": {}
      },
      "source": [
        "#Downloading the zipped file\n",
        "from google.colab import files\n",
        "files.download(\"/content/trial-1f.zip\")"
      ],
      "execution_count": 0,
      "outputs": []
    },
    {
      "cell_type": "code",
      "metadata": {
        "id": "J5LhoFSZ3z-y",
        "colab_type": "code",
        "colab": {}
      },
      "source": [
        "#Delete the folder trial-1f\n",
        "!rm -rf trial-1f"
      ],
      "execution_count": 0,
      "outputs": []
    }
  ]
}